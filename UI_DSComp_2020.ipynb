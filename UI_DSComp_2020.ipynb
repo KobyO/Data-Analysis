{
 "cells": [
  {
   "cell_type": "markdown",
   "metadata": {},
   "source": [
    "# Handwritten Equation Grading\n",
    "\n",
    "This is a model submitted to the [2020 UIdaho Data Science Competition](https://dscomp.nkn.uidaho.edu/scoring)"
   ]
  },
  {
   "cell_type": "code",
   "execution_count": 1,
   "metadata": {
    "cell_id": "a75200c6-2f20-4202-b257-f7b8ffa850d2",
    "colab": {
     "base_uri": "https://localhost:8080/",
     "height": 34
    },
    "colab_type": "code",
    "id": "7BoiksmleMVf",
    "outputId": "014f7c1a-70f2-41c1-8ae5-2802cde8b5a0"
   },
   "outputs": [
    {
     "name": "stderr",
     "output_type": "stream",
     "text": [
      "Using TensorFlow backend.\n"
     ]
    }
   ],
   "source": [
    "from __future__ import print_function\n",
    "from sklearn.model_selection import train_test_split\n",
    "import keras\n",
    "from keras.layers import Dense, Conv2D, BatchNormalization, Activation, AveragePooling2D, Input, Flatten, Dropout, MaxPool2D, MaxPooling2D\n",
    "from keras.optimizers import RMSprop, Adam\n",
    "from keras.callbacks import ModelCheckpoint, LearningRateScheduler, ReduceLROnPlateau\n",
    "from keras.preprocessing.image import image, ImageDataGenerator\n",
    "from keras import backend as K\n",
    "from keras.models import Model, Sequential, load_model\n",
    "import tensorflow as tf\n",
    "import matplotlib.pyplot as plt\n",
    "import numpy as np\n",
    "import cv2\n",
    "import itertools\n",
    "from keras.utils.np_utils import to_categorical # convert to one-hot-encoding"
   ]
  },
  {
   "cell_type": "code",
   "execution_count": 0,
   "metadata": {
    "colab": {},
    "colab_type": "code",
    "id": "buyH1v_WRiru"
   },
   "outputs": [],
   "source": [
    "# To use on Google Colab\n",
    "# !pip install tensorflow-gpu==1.15.2"
   ]
  },
  {
   "cell_type": "code",
   "execution_count": 0,
   "metadata": {
    "cell_id": "b574431f-351d-46b2-8f12-1ef1cfdc3b54",
    "colab": {},
    "colab_type": "code",
    "id": "HZ_c8-nvYBzQ"
   },
   "outputs": [],
   "source": [
    "# Download data\n",
    "!wget -c https://dscomp.nkn.uidaho.edu/datadownload/Competition_Train_data_8000.npy\n",
    "!wget -c https://dscomp.nkn.uidaho.edu/datadownload/Competition_Train_label_8000.npy\n",
    "!wget -c https://dscomp.nkn.uidaho.edu/datadownload/Competition_Problems.npy"
   ]
  },
  {
   "cell_type": "code",
   "execution_count": 3,
   "metadata": {
    "cell_id": "f0823898-e96b-456f-bab1-736a50455d8f",
    "colab": {
     "base_uri": "https://localhost:8080/",
     "height": 51
    },
    "colab_type": "code",
    "id": "ENfPh3X3X7O1",
    "outputId": "d662539b-cecc-4bcb-d338-138edf02809a"
   },
   "outputs": [
    {
     "name": "stdout",
     "output_type": "stream",
     "text": [
      "(8000, 64, 64)\n",
      "(8000,)\n"
     ]
    }
   ],
   "source": [
    "# load data\n",
    "\n",
    "### Train Data\n",
    "Train_data = np.load('Competition_Train_data_8000.npy')  # Your directory\n",
    "print(Train_data.shape)\n",
    "\n",
    "### Train Label\n",
    "Train_label = np.load('Competition_Train_label_8000.npy') \n",
    "print(Train_label.shape)"
   ]
  },
  {
   "cell_type": "code",
   "execution_count": 4,
   "metadata": {
    "colab": {
     "base_uri": "https://localhost:8080/",
     "height": 34
    },
    "colab_type": "code",
    "id": "6LVnxMDZKgQ3",
    "outputId": "fe470336-cabd-45a1-f076-005a11ce31f3"
   },
   "outputs": [
    {
     "name": "stdout",
     "output_type": "stream",
     "text": [
      "Training set: (8000, 64, 64, 1)\n"
     ]
    }
   ],
   "source": [
    "# reshape\n",
    "x_train = np.reshape(Train_data, [Train_data.shape[0], Train_data.shape[1], Train_data.shape[2], 1])\n",
    "print('Training set: {}'.format(x_train.shape))"
   ]
  },
  {
   "cell_type": "code",
   "execution_count": 5,
   "metadata": {
    "cell_id": "af313f9d-737d-44f9-8b0c-3b23e464686f",
    "colab": {
     "base_uri": "https://localhost:8080/",
     "height": 51
    },
    "colab_type": "code",
    "id": "KnmO9kuWfVlP",
    "outputId": "fe1a50b2-9a94-4f08-f15f-177fb6fa8c41"
   },
   "outputs": [
    {
     "name": "stdout",
     "output_type": "stream",
     "text": [
      "(48000, 64, 64, 1)\n",
      "(48000,)\n"
     ]
    }
   ],
   "source": [
    "# data augmentation\n",
    "datagen = ImageDataGenerator(\n",
    "    featurewise_center = False,  # set input mean to 0 over the dataset\n",
    "    samplewise_center = False,  # set each sample mean to 0\n",
    "    featurewise_std_normalization = False,  # divide inputs by std of the dataset\n",
    "    samplewise_std_normalization = False,  # divide each input by its std\n",
    "    zca_whitening = False,  # apply ZCA whitening\n",
    "    rotation_range = 10,  # randomly rotate images in the range (degrees, 0 to 180)\n",
    "    zoom_range = 0.1, # Randomly zoom image\n",
    "    width_shift_range = 0.1,  # randomly shift images horizontally (fraction of total width)\n",
    "    height_shift_range = 0.1,  # randomly shift images vertically (fraction of total height)\n",
    "    horizontal_flip = False,  # randomly flip images\n",
    "    vertical_flip = False)  # randomly flip images)\n",
    "\n",
    "datagen.fit(x_train)\n",
    "\n",
    "multiplier = 5\n",
    "m = x_train.shape[0]\n",
    "augment_size = multiplier * m # generate 'multiplier' times more data\n",
    "\n",
    "randidx = np.random.randint(m, size = augment_size)\n",
    "\n",
    "x_augmented = x_train[randidx].copy()\n",
    "y_augmented = Train_label[randidx].copy()\n",
    "\n",
    "x_augmented, y_augmented = datagen.flow(x_augmented, y_augmented, batch_size = augment_size, shuffle = False).next()\n",
    "\n",
    "# append augmented data to the training set\n",
    "x_train = np.concatenate((x_train, x_augmented))\n",
    "y_train = np.concatenate((Train_label, y_augmented))\n",
    "\n",
    "print(x_train.shape)\n",
    "print(y_train.shape)"
   ]
  },
  {
   "cell_type": "code",
   "execution_count": 6,
   "metadata": {
    "cell_id": "c429beea-af6c-4dd6-b65a-e93e54020c48",
    "colab": {
     "base_uri": "https://localhost:8080/",
     "height": 85
    },
    "colab_type": "code",
    "id": "QRn1Vj1fbwtp",
    "outputId": "cab7b436-9cad-440f-e3e7-3256103ab7cf"
   },
   "outputs": [
    {
     "name": "stdout",
     "output_type": "stream",
     "text": [
      "Training set: (38400, 64, 64, 1) and Training Targets: (38400,)\n",
      "Test set: (9600, 64, 64, 1) and test targets: (9600,)\n",
      "One-hot training labels: (38400, 16)\n",
      "One-hot test labels: (9600, 16)\n"
     ]
    }
   ],
   "source": [
    "x_train, x_test, y_train, y_test = train_test_split(x_train, y_train, test_size = 0.2, random_state = 42)\n",
    "\n",
    "print('Training set: {} and Training Targets: {}'.format(x_train.shape, y_train.shape))\n",
    "print('Test set: {} and test targets: {}'.format(x_test.shape, y_test.shape))\n",
    "\n",
    "# normalize data\n",
    "x_train /= 255.0\n",
    "x_test /= 255.0\n",
    "\n",
    "# one-hot-encode labels\n",
    "y_train_onehot = keras.utils.to_categorical(y_train)\n",
    "y_test_onehot = keras.utils.to_categorical(y_test)\n",
    "\n",
    "print('One-hot training labels: {}'.format(y_train_onehot.shape))\n",
    "print('One-hot test labels: {}'.format(y_test_onehot.shape))"
   ]
  },
  {
   "cell_type": "code",
   "execution_count": 7,
   "metadata": {
    "cell_id": "5045042e-a6da-4e83-a69d-b2e1bde7e79e",
    "colab": {
     "base_uri": "https://localhost:8080/",
     "height": 1000
    },
    "colab_type": "code",
    "id": "L_5czzis8Os9",
    "outputId": "e7c0fe2e-f6c2-453d-8c4d-3110832264ae"
   },
   "outputs": [
    {
     "name": "stdout",
     "output_type": "stream",
     "text": [
      "Model: \"sequential_1\"\n",
      "_________________________________________________________________\n",
      "Layer (type)                 Output Shape              Param #   \n",
      "=================================================================\n",
      "conv2d_1 (Conv2D)            (None, 64, 64, 16)        1952      \n",
      "_________________________________________________________________\n",
      "conv2d_2 (Conv2D)            (None, 64, 64, 16)        30992     \n",
      "_________________________________________________________________\n",
      "max_pooling2d_1 (MaxPooling2 (None, 32, 32, 16)        0         \n",
      "_________________________________________________________________\n",
      "dropout_1 (Dropout)          (None, 32, 32, 16)        0         \n",
      "_________________________________________________________________\n",
      "batch_normalization_1 (Batch (None, 32, 32, 16)        64        \n",
      "_________________________________________________________________\n",
      "conv2d_3 (Conv2D)            (None, 32, 32, 32)        25120     \n",
      "_________________________________________________________________\n",
      "conv2d_4 (Conv2D)            (None, 32, 32, 32)        50208     \n",
      "_________________________________________________________________\n",
      "max_pooling2d_2 (MaxPooling2 (None, 16, 16, 32)        0         \n",
      "_________________________________________________________________\n",
      "dropout_2 (Dropout)          (None, 16, 16, 32)        0         \n",
      "_________________________________________________________________\n",
      "batch_normalization_2 (Batch (None, 16, 16, 32)        128       \n",
      "_________________________________________________________________\n",
      "conv2d_5 (Conv2D)            (None, 16, 16, 64)        51264     \n",
      "_________________________________________________________________\n",
      "conv2d_6 (Conv2D)            (None, 16, 16, 64)        102464    \n",
      "_________________________________________________________________\n",
      "max_pooling2d_3 (MaxPooling2 (None, 8, 8, 64)          0         \n",
      "_________________________________________________________________\n",
      "dropout_3 (Dropout)          (None, 8, 8, 64)          0         \n",
      "_________________________________________________________________\n",
      "batch_normalization_3 (Batch (None, 8, 8, 64)          256       \n",
      "_________________________________________________________________\n",
      "conv2d_7 (Conv2D)            (None, 8, 8, 128)         73856     \n",
      "_________________________________________________________________\n",
      "conv2d_8 (Conv2D)            (None, 8, 8, 128)         147584    \n",
      "_________________________________________________________________\n",
      "conv2d_9 (Conv2D)            (None, 8, 8, 256)         295168    \n",
      "_________________________________________________________________\n",
      "conv2d_10 (Conv2D)           (None, 8, 8, 256)         590080    \n",
      "_________________________________________________________________\n",
      "max_pooling2d_4 (MaxPooling2 (None, 4, 4, 256)         0         \n",
      "_________________________________________________________________\n",
      "dropout_4 (Dropout)          (None, 4, 4, 256)         0         \n",
      "_________________________________________________________________\n",
      "batch_normalization_4 (Batch (None, 4, 4, 256)         1024      \n",
      "_________________________________________________________________\n",
      "flatten_1 (Flatten)          (None, 4096)              0         \n",
      "_________________________________________________________________\n",
      "dense_1 (Dense)              (None, 256)               1048832   \n",
      "_________________________________________________________________\n",
      "dropout_5 (Dropout)          (None, 256)               0         \n",
      "_________________________________________________________________\n",
      "batch_normalization_5 (Batch (None, 256)               1024      \n",
      "_________________________________________________________________\n",
      "dense_2 (Dense)              (None, 128)               32896     \n",
      "_________________________________________________________________\n",
      "dense_3 (Dense)              (None, 64)                8256      \n",
      "_________________________________________________________________\n",
      "dropout_6 (Dropout)          (None, 64)                0         \n",
      "_________________________________________________________________\n",
      "dense_4 (Dense)              (None, 16)                1040      \n",
      "=================================================================\n",
      "Total params: 2,462,208\n",
      "Trainable params: 2,460,960\n",
      "Non-trainable params: 1,248\n",
      "_________________________________________________________________\n"
     ]
    }
   ],
   "source": [
    "# Convnet\n",
    "model = Sequential()\n",
    "\n",
    "# layers\n",
    "model.add(Conv2D(filters = 16, kernel_size = (11, 11),padding = 'Same', activation ='relu', input_shape = (64, 64, 1)))\n",
    "model.add(Conv2D(filters = 16, kernel_size = (11, 11),padding = 'Same', activation ='relu'))\n",
    "model.add(MaxPool2D(pool_size = (2, 2)))\n",
    "model.add(Dropout(0.25))\n",
    "model.add(BatchNormalization())\n",
    "\n",
    "model.add(Conv2D(filters = 32, kernel_size = (7, 7),padding = 'Same', activation ='relu'))\n",
    "model.add(Conv2D(filters = 32, kernel_size = (7, 7),padding = 'Same', activation ='relu'))\n",
    "model.add(MaxPool2D(pool_size = (2, 2)))\n",
    "model.add(Dropout(0.25))\n",
    "model.add(BatchNormalization())\n",
    "\n",
    "model.add(Conv2D(filters = 64, kernel_size = (5, 5),padding = 'Same', activation ='relu'))\n",
    "model.add(Conv2D(filters = 64, kernel_size = (5, 5),padding = 'Same', activation ='relu'))\n",
    "model.add(MaxPool2D(pool_size = (2, 2), strides = (2, 2)))\n",
    "model.add(Dropout(0.25))\n",
    "model.add(BatchNormalization())\n",
    "\n",
    "model.add(Conv2D(filters = 128, kernel_size = (3, 3),padding = 'Same', activation ='relu'))\n",
    "model.add(Conv2D(filters = 128, kernel_size = (3, 3),padding = 'Same', activation ='relu'))\n",
    "\n",
    "model.add(Conv2D(filters = 256, kernel_size = (3, 3),padding = 'Same', activation ='relu'))\n",
    "model.add(Conv2D(filters = 256, kernel_size = (3, 3),padding = 'Same', activation ='relu'))\n",
    "\n",
    "model.add(MaxPool2D(pool_size = (2, 2), strides = (2, 2)))\n",
    "model.add(Dropout(0.25))\n",
    "model.add(BatchNormalization())\n",
    "\n",
    "# fully connected layers\n",
    "model.add(Flatten())\n",
    "model.add(Dense(256, activation = \"relu\", kernel_regularizer = tf.keras.regularizers.l2(0.0001)))\n",
    "model.add(Dropout(0.5))\n",
    "model.add(BatchNormalization())\n",
    "model.add(Dense(128, activation = \"relu\", kernel_regularizer = tf.keras.regularizers.l2(0.0001)))\n",
    "model.add(Dense(64, activation = \"relu\", kernel_regularizer = tf.keras.regularizers.l2(0.0001)))\n",
    "model.add(Dropout(0.5))\n",
    "model.add(Dense(16, activation = \"softmax\", kernel_regularizer = tf.keras.regularizers.l2(0.0001)))\n",
    "\n",
    "checkpoint = ModelCheckpoint('best_model.hdf5', verbose = 1, save_best_only = True)\n",
    "\n",
    "optimizer = RMSprop(lr = 0.001, rho = 0.9, epsilon = 1e-08, decay = 0.0)\n",
    "\n",
    "model.compile(optimizer = optimizer , loss = \"categorical_crossentropy\", metrics = [\"accuracy\"])\n",
    "\n",
    "model.summary()"
   ]
  },
  {
   "cell_type": "code",
   "execution_count": 0,
   "metadata": {
    "cell_id": "b6631fb5-da73-44b2-b2d3-1c5293270d1d",
    "colab": {},
    "colab_type": "code",
    "id": "g3PdwzJYb1jz"
   },
   "outputs": [],
   "source": [
    "# Set a learning rate annealer\n",
    "learning_rate_reduction = ReduceLROnPlateau(monitor = 'val_acc', patience = 3, verbose = 0, factor = 0.5, min_lr = 0.00001)"
   ]
  },
  {
   "cell_type": "code",
   "execution_count": 9,
   "metadata": {
    "cell_id": "f4322e83-0976-4fa5-8779-035afdc66027",
    "colab": {
     "base_uri": "https://localhost:8080/",
     "height": 1000
    },
    "colab_type": "code",
    "id": "-x9JlaSZ9AG1",
    "outputId": "902089df-f14f-42a0-cf16-2e6ed32eacfe"
   },
   "outputs": [
    {
     "name": "stdout",
     "output_type": "stream",
     "text": [
      "Epoch 1/70\n",
      "300/300 [==============================] - 34s 113ms/step - loss: 1.8769 - accuracy: 0.3721 - val_loss: 4.5711 - val_accuracy: 0.0826\n",
      "\n",
      "Epoch 00001: val_loss improved from inf to 4.57108, saving model to best_model.hdf5\n",
      "Epoch 2/70\n",
      "  1/300 [..............................] - ETA: 16s - loss: 1.3372 - accuracy: 0.5391"
     ]
    },
    {
     "name": "stderr",
     "output_type": "stream",
     "text": [
      "/usr/local/lib/python3.6/dist-packages/keras/callbacks/callbacks.py:1042: RuntimeWarning: Reduce LR on plateau conditioned on metric `val_acc` which is not available. Available metrics are: val_loss,val_accuracy,loss,accuracy,lr\n",
      "  (self.monitor, ','.join(list(logs.keys()))), RuntimeWarning\n"
     ]
    },
    {
     "name": "stdout",
     "output_type": "stream",
     "text": [
      "300/300 [==============================] - 24s 79ms/step - loss: 1.0511 - accuracy: 0.6350 - val_loss: 1.1926 - val_accuracy: 0.6157\n",
      "\n",
      "Epoch 00002: val_loss improved from 4.57108 to 1.19255, saving model to best_model.hdf5\n",
      "Epoch 3/70\n",
      "300/300 [==============================] - 24s 79ms/step - loss: 0.7099 - accuracy: 0.7440 - val_loss: 0.4764 - val_accuracy: 0.8385\n",
      "\n",
      "Epoch 00003: val_loss improved from 1.19255 to 0.47642, saving model to best_model.hdf5\n",
      "Epoch 4/70\n",
      "300/300 [==============================] - 24s 79ms/step - loss: 0.5200 - accuracy: 0.8467 - val_loss: 0.2917 - val_accuracy: 0.9397\n",
      "\n",
      "Epoch 00004: val_loss improved from 0.47642 to 0.29174, saving model to best_model.hdf5\n",
      "Epoch 5/70\n",
      "300/300 [==============================] - 24s 79ms/step - loss: 0.3599 - accuracy: 0.9155 - val_loss: 0.1638 - val_accuracy: 0.9723\n",
      "\n",
      "Epoch 00005: val_loss improved from 0.29174 to 0.16383, saving model to best_model.hdf5\n",
      "Epoch 6/70\n",
      "300/300 [==============================] - 24s 79ms/step - loss: 0.2845 - accuracy: 0.9417 - val_loss: 0.1605 - val_accuracy: 0.9747\n",
      "\n",
      "Epoch 00006: val_loss improved from 0.16383 to 0.16048, saving model to best_model.hdf5\n",
      "Epoch 7/70\n",
      "300/300 [==============================] - 24s 79ms/step - loss: 0.2420 - accuracy: 0.9532 - val_loss: 0.1182 - val_accuracy: 0.9864\n",
      "\n",
      "Epoch 00007: val_loss improved from 0.16048 to 0.11822, saving model to best_model.hdf5\n",
      "Epoch 8/70\n",
      "300/300 [==============================] - 23s 78ms/step - loss: 0.2133 - accuracy: 0.9610 - val_loss: 0.1290 - val_accuracy: 0.9817\n",
      "\n",
      "Epoch 00008: val_loss did not improve from 0.11822\n",
      "Epoch 9/70\n",
      "300/300 [==============================] - 24s 79ms/step - loss: 0.2015 - accuracy: 0.9647 - val_loss: 0.1045 - val_accuracy: 0.9887\n",
      "\n",
      "Epoch 00009: val_loss improved from 0.11822 to 0.10452, saving model to best_model.hdf5\n",
      "Epoch 10/70\n",
      "300/300 [==============================] - 24s 79ms/step - loss: 0.1819 - accuracy: 0.9677 - val_loss: 0.1333 - val_accuracy: 0.9800\n",
      "\n",
      "Epoch 00010: val_loss did not improve from 0.10452\n",
      "Epoch 11/70\n",
      "300/300 [==============================] - 24s 79ms/step - loss: 0.1709 - accuracy: 0.9719 - val_loss: 0.0867 - val_accuracy: 0.9930\n",
      "\n",
      "Epoch 00011: val_loss improved from 0.10452 to 0.08670, saving model to best_model.hdf5\n",
      "Epoch 12/70\n",
      "300/300 [==============================] - 24s 79ms/step - loss: 0.1651 - accuracy: 0.9727 - val_loss: 0.0838 - val_accuracy: 0.9921\n",
      "\n",
      "Epoch 00012: val_loss improved from 0.08670 to 0.08380, saving model to best_model.hdf5\n",
      "Epoch 13/70\n",
      "300/300 [==============================] - 24s 79ms/step - loss: 0.1498 - accuracy: 0.9762 - val_loss: 0.1166 - val_accuracy: 0.9849\n",
      "\n",
      "Epoch 00013: val_loss did not improve from 0.08380\n",
      "Epoch 14/70\n",
      "300/300 [==============================] - 24s 79ms/step - loss: 0.1442 - accuracy: 0.9771 - val_loss: 0.0789 - val_accuracy: 0.9934\n",
      "\n",
      "Epoch 00014: val_loss improved from 0.08380 to 0.07886, saving model to best_model.hdf5\n",
      "Epoch 15/70\n",
      "300/300 [==============================] - 24s 79ms/step - loss: 0.1415 - accuracy: 0.9785 - val_loss: 0.0797 - val_accuracy: 0.9947\n",
      "\n",
      "Epoch 00015: val_loss did not improve from 0.07886\n",
      "Epoch 16/70\n",
      "300/300 [==============================] - 24s 79ms/step - loss: 0.1349 - accuracy: 0.9804 - val_loss: 0.0646 - val_accuracy: 0.9960\n",
      "\n",
      "Epoch 00016: val_loss improved from 0.07886 to 0.06455, saving model to best_model.hdf5\n",
      "Epoch 17/70\n",
      "300/300 [==============================] - 23s 78ms/step - loss: 0.1321 - accuracy: 0.9802 - val_loss: 0.0636 - val_accuracy: 0.9965\n",
      "\n",
      "Epoch 00017: val_loss improved from 0.06455 to 0.06357, saving model to best_model.hdf5\n",
      "Epoch 18/70\n",
      "300/300 [==============================] - 24s 79ms/step - loss: 0.1264 - accuracy: 0.9815 - val_loss: 0.0617 - val_accuracy: 0.9970\n",
      "\n",
      "Epoch 00018: val_loss improved from 0.06357 to 0.06167, saving model to best_model.hdf5\n",
      "Epoch 19/70\n",
      "300/300 [==============================] - 24s 80ms/step - loss: 0.1194 - accuracy: 0.9828 - val_loss: 0.0569 - val_accuracy: 0.9974\n",
      "\n",
      "Epoch 00019: val_loss improved from 0.06167 to 0.05688, saving model to best_model.hdf5\n",
      "Epoch 20/70\n",
      "300/300 [==============================] - 24s 79ms/step - loss: 0.1158 - accuracy: 0.9832 - val_loss: 0.1128 - val_accuracy: 0.9840\n",
      "\n",
      "Epoch 00020: val_loss did not improve from 0.05688\n",
      "Epoch 21/70\n",
      "300/300 [==============================] - 24s 79ms/step - loss: 0.1141 - accuracy: 0.9835 - val_loss: 0.0622 - val_accuracy: 0.9948\n",
      "\n",
      "Epoch 00021: val_loss did not improve from 0.05688\n",
      "Epoch 22/70\n",
      "300/300 [==============================] - 24s 79ms/step - loss: 0.1107 - accuracy: 0.9839 - val_loss: 0.0605 - val_accuracy: 0.9957\n",
      "\n",
      "Epoch 00022: val_loss did not improve from 0.05688\n",
      "Epoch 23/70\n",
      "300/300 [==============================] - 24s 79ms/step - loss: 0.1095 - accuracy: 0.9839 - val_loss: 0.0575 - val_accuracy: 0.9970\n",
      "\n",
      "Epoch 00023: val_loss did not improve from 0.05688\n",
      "Epoch 24/70\n",
      "300/300 [==============================] - 24s 79ms/step - loss: 0.1006 - accuracy: 0.9855 - val_loss: 0.0505 - val_accuracy: 0.9972\n",
      "\n",
      "Epoch 00024: val_loss improved from 0.05688 to 0.05051, saving model to best_model.hdf5\n",
      "Epoch 25/70\n",
      "300/300 [==============================] - 24s 79ms/step - loss: 0.1045 - accuracy: 0.9856 - val_loss: 0.0516 - val_accuracy: 0.9974\n",
      "\n",
      "Epoch 00025: val_loss did not improve from 0.05051\n",
      "Epoch 26/70\n",
      "300/300 [==============================] - 24s 79ms/step - loss: 0.0938 - accuracy: 0.9866 - val_loss: 0.0455 - val_accuracy: 0.9987\n",
      "\n",
      "Epoch 00026: val_loss improved from 0.05051 to 0.04551, saving model to best_model.hdf5\n",
      "Epoch 27/70\n",
      "300/300 [==============================] - 24s 79ms/step - loss: 0.0989 - accuracy: 0.9864 - val_loss: 0.0497 - val_accuracy: 0.9970\n",
      "\n",
      "Epoch 00027: val_loss did not improve from 0.04551\n",
      "Epoch 28/70\n",
      "300/300 [==============================] - 24s 79ms/step - loss: 0.0939 - accuracy: 0.9880 - val_loss: 0.0667 - val_accuracy: 0.9937\n",
      "\n",
      "Epoch 00028: val_loss did not improve from 0.04551\n",
      "Epoch 29/70\n",
      "300/300 [==============================] - 24s 79ms/step - loss: 0.0922 - accuracy: 0.9870 - val_loss: 0.0558 - val_accuracy: 0.9960\n",
      "\n",
      "Epoch 00029: val_loss did not improve from 0.04551\n",
      "Epoch 30/70\n",
      "300/300 [==============================] - 24s 79ms/step - loss: 0.0915 - accuracy: 0.9879 - val_loss: 0.0558 - val_accuracy: 0.9959\n",
      "\n",
      "Epoch 00030: val_loss did not improve from 0.04551\n",
      "Epoch 31/70\n",
      "300/300 [==============================] - 24s 79ms/step - loss: 0.0903 - accuracy: 0.9877 - val_loss: 0.0444 - val_accuracy: 0.9982\n",
      "\n",
      "Epoch 00031: val_loss improved from 0.04551 to 0.04437, saving model to best_model.hdf5\n",
      "Epoch 32/70\n",
      "300/300 [==============================] - 24s 80ms/step - loss: 0.0906 - accuracy: 0.9878 - val_loss: 0.0475 - val_accuracy: 0.9972\n",
      "\n",
      "Epoch 00032: val_loss did not improve from 0.04437\n",
      "Epoch 33/70\n",
      "300/300 [==============================] - 24s 79ms/step - loss: 0.0842 - accuracy: 0.9884 - val_loss: 0.0412 - val_accuracy: 0.9984\n",
      "\n",
      "Epoch 00033: val_loss improved from 0.04437 to 0.04125, saving model to best_model.hdf5\n",
      "Epoch 34/70\n",
      "300/300 [==============================] - 24s 79ms/step - loss: 0.0815 - accuracy: 0.9893 - val_loss: 0.0398 - val_accuracy: 0.9985\n",
      "\n",
      "Epoch 00034: val_loss improved from 0.04125 to 0.03978, saving model to best_model.hdf5\n",
      "Epoch 35/70\n",
      "300/300 [==============================] - 24s 79ms/step - loss: 0.0848 - accuracy: 0.9888 - val_loss: 0.0441 - val_accuracy: 0.9975\n",
      "\n",
      "Epoch 00035: val_loss did not improve from 0.03978\n",
      "Epoch 36/70\n",
      "300/300 [==============================] - 24s 79ms/step - loss: 0.0796 - accuracy: 0.9892 - val_loss: 0.0402 - val_accuracy: 0.9989\n",
      "\n",
      "Epoch 00036: val_loss did not improve from 0.03978\n",
      "Epoch 37/70\n",
      "300/300 [==============================] - 24s 79ms/step - loss: 0.0827 - accuracy: 0.9889 - val_loss: 0.0421 - val_accuracy: 0.9978\n",
      "\n",
      "Epoch 00037: val_loss did not improve from 0.03978\n",
      "Epoch 38/70\n",
      "300/300 [==============================] - 24s 79ms/step - loss: 0.0790 - accuracy: 0.9893 - val_loss: 0.0460 - val_accuracy: 0.9973\n",
      "\n",
      "Epoch 00038: val_loss did not improve from 0.03978\n",
      "Epoch 39/70\n",
      "300/300 [==============================] - 23s 78ms/step - loss: 0.0764 - accuracy: 0.9902 - val_loss: 0.0349 - val_accuracy: 0.9990\n",
      "\n",
      "Epoch 00039: val_loss improved from 0.03978 to 0.03492, saving model to best_model.hdf5\n",
      "Epoch 40/70\n",
      "300/300 [==============================] - 24s 79ms/step - loss: 0.0778 - accuracy: 0.9898 - val_loss: 0.0392 - val_accuracy: 0.9982\n",
      "\n",
      "Epoch 00040: val_loss did not improve from 0.03492\n",
      "Epoch 41/70\n",
      "300/300 [==============================] - 24s 79ms/step - loss: 0.0710 - accuracy: 0.9914 - val_loss: 0.0356 - val_accuracy: 0.9991\n",
      "\n",
      "Epoch 00041: val_loss did not improve from 0.03492\n",
      "Epoch 42/70\n",
      "300/300 [==============================] - 24s 79ms/step - loss: 0.0751 - accuracy: 0.9898 - val_loss: 0.0435 - val_accuracy: 0.9975\n",
      "\n",
      "Epoch 00042: val_loss did not improve from 0.03492\n",
      "Epoch 43/70\n",
      "300/300 [==============================] - 24s 79ms/step - loss: 0.0724 - accuracy: 0.9902 - val_loss: 0.0364 - val_accuracy: 0.9983\n",
      "\n",
      "Epoch 00043: val_loss did not improve from 0.03492\n",
      "Epoch 44/70\n",
      "300/300 [==============================] - 24s 79ms/step - loss: 0.0716 - accuracy: 0.9909 - val_loss: 0.0366 - val_accuracy: 0.9980\n",
      "\n",
      "Epoch 00044: val_loss did not improve from 0.03492\n",
      "Epoch 45/70\n",
      "300/300 [==============================] - 24s 79ms/step - loss: 0.0727 - accuracy: 0.9907 - val_loss: 0.0386 - val_accuracy: 0.9981\n",
      "\n",
      "Epoch 00045: val_loss did not improve from 0.03492\n",
      "Epoch 46/70\n",
      "300/300 [==============================] - 24s 79ms/step - loss: 0.0700 - accuracy: 0.9904 - val_loss: 0.0322 - val_accuracy: 0.9998\n",
      "\n",
      "Epoch 00046: val_loss improved from 0.03492 to 0.03219, saving model to best_model.hdf5\n",
      "Epoch 47/70\n",
      "300/300 [==============================] - 24s 79ms/step - loss: 0.0708 - accuracy: 0.9911 - val_loss: 0.0335 - val_accuracy: 0.9990\n",
      "\n",
      "Epoch 00047: val_loss did not improve from 0.03219\n",
      "Epoch 48/70\n",
      "300/300 [==============================] - 24s 79ms/step - loss: 0.0657 - accuracy: 0.9920 - val_loss: 0.0348 - val_accuracy: 0.9985\n",
      "\n",
      "Epoch 00048: val_loss did not improve from 0.03219\n",
      "Epoch 49/70\n",
      "300/300 [==============================] - 23s 78ms/step - loss: 0.0675 - accuracy: 0.9912 - val_loss: 0.0346 - val_accuracy: 0.9986\n",
      "\n",
      "Epoch 00049: val_loss did not improve from 0.03219\n",
      "Epoch 50/70\n",
      "300/300 [==============================] - 23s 78ms/step - loss: 0.0689 - accuracy: 0.9911 - val_loss: 0.0325 - val_accuracy: 0.9990\n",
      "\n",
      "Epoch 00050: val_loss did not improve from 0.03219\n",
      "Epoch 51/70\n",
      "300/300 [==============================] - 23s 78ms/step - loss: 0.0678 - accuracy: 0.9914 - val_loss: 0.0313 - val_accuracy: 0.9994\n",
      "\n",
      "Epoch 00051: val_loss improved from 0.03219 to 0.03129, saving model to best_model.hdf5\n",
      "Epoch 52/70\n",
      "300/300 [==============================] - 24s 79ms/step - loss: 0.0683 - accuracy: 0.9911 - val_loss: 0.0357 - val_accuracy: 0.9986\n",
      "\n",
      "Epoch 00052: val_loss did not improve from 0.03129\n",
      "Epoch 53/70\n",
      "300/300 [==============================] - 24s 79ms/step - loss: 0.0631 - accuracy: 0.9920 - val_loss: 0.0322 - val_accuracy: 0.9986\n",
      "\n",
      "Epoch 00053: val_loss did not improve from 0.03129\n",
      "Epoch 54/70\n",
      "300/300 [==============================] - 24s 78ms/step - loss: 0.0643 - accuracy: 0.9922 - val_loss: 0.0328 - val_accuracy: 0.9989\n",
      "\n",
      "Epoch 00054: val_loss did not improve from 0.03129\n",
      "Epoch 55/70\n",
      "300/300 [==============================] - 23s 78ms/step - loss: 0.0629 - accuracy: 0.9918 - val_loss: 0.0342 - val_accuracy: 0.9981\n",
      "\n",
      "Epoch 00055: val_loss did not improve from 0.03129\n",
      "Epoch 56/70\n",
      "300/300 [==============================] - 24s 78ms/step - loss: 0.0642 - accuracy: 0.9923 - val_loss: 0.0333 - val_accuracy: 0.9982\n",
      "\n",
      "Epoch 00056: val_loss did not improve from 0.03129\n",
      "Epoch 57/70\n",
      "300/300 [==============================] - 24s 79ms/step - loss: 0.0588 - accuracy: 0.9928 - val_loss: 0.0299 - val_accuracy: 0.9990\n",
      "\n",
      "Epoch 00057: val_loss improved from 0.03129 to 0.02994, saving model to best_model.hdf5\n",
      "Epoch 58/70\n",
      "300/300 [==============================] - 24s 79ms/step - loss: 0.0627 - accuracy: 0.9926 - val_loss: 0.0303 - val_accuracy: 0.9993\n",
      "\n",
      "Epoch 00058: val_loss did not improve from 0.02994\n",
      "Epoch 59/70\n",
      "300/300 [==============================] - 24s 78ms/step - loss: 0.0607 - accuracy: 0.9926 - val_loss: 0.0275 - val_accuracy: 0.9998\n",
      "\n",
      "Epoch 00059: val_loss improved from 0.02994 to 0.02755, saving model to best_model.hdf5\n",
      "Epoch 60/70\n",
      "300/300 [==============================] - 24s 79ms/step - loss: 0.0574 - accuracy: 0.9932 - val_loss: 0.0294 - val_accuracy: 0.9989\n",
      "\n",
      "Epoch 00060: val_loss did not improve from 0.02755\n",
      "Epoch 61/70\n",
      "300/300 [==============================] - 24s 78ms/step - loss: 0.0597 - accuracy: 0.9922 - val_loss: 0.0285 - val_accuracy: 0.9995\n",
      "\n",
      "Epoch 00061: val_loss did not improve from 0.02755\n",
      "Epoch 62/70\n",
      "300/300 [==============================] - 24s 78ms/step - loss: 0.0583 - accuracy: 0.9929 - val_loss: 0.0356 - val_accuracy: 0.9980\n",
      "\n",
      "Epoch 00062: val_loss did not improve from 0.02755\n",
      "Epoch 63/70\n",
      "300/300 [==============================] - 23s 78ms/step - loss: 0.0550 - accuracy: 0.9939 - val_loss: 0.0267 - val_accuracy: 0.9996\n",
      "\n",
      "Epoch 00063: val_loss improved from 0.02755 to 0.02673, saving model to best_model.hdf5\n",
      "Epoch 64/70\n",
      "300/300 [==============================] - 23s 78ms/step - loss: 0.0602 - accuracy: 0.9931 - val_loss: 0.0261 - val_accuracy: 0.9996\n",
      "\n",
      "Epoch 00064: val_loss improved from 0.02673 to 0.02613, saving model to best_model.hdf5\n",
      "Epoch 65/70\n",
      "300/300 [==============================] - 23s 78ms/step - loss: 0.0570 - accuracy: 0.9929 - val_loss: 0.0294 - val_accuracy: 0.9989\n",
      "\n",
      "Epoch 00065: val_loss did not improve from 0.02613\n",
      "Epoch 66/70\n",
      "300/300 [==============================] - 23s 78ms/step - loss: 0.0556 - accuracy: 0.9932 - val_loss: 0.0263 - val_accuracy: 0.9993\n",
      "\n",
      "Epoch 00066: val_loss did not improve from 0.02613\n",
      "Epoch 67/70\n",
      "300/300 [==============================] - 24s 79ms/step - loss: 0.0532 - accuracy: 0.9936 - val_loss: 0.0275 - val_accuracy: 0.9993\n",
      "\n",
      "Epoch 00067: val_loss did not improve from 0.02613\n",
      "Epoch 68/70\n",
      "300/300 [==============================] - 24s 79ms/step - loss: 0.0561 - accuracy: 0.9935 - val_loss: 0.0281 - val_accuracy: 0.9990\n",
      "\n",
      "Epoch 00068: val_loss did not improve from 0.02613\n",
      "Epoch 69/70\n",
      "300/300 [==============================] - 24s 78ms/step - loss: 0.0544 - accuracy: 0.9932 - val_loss: 0.0260 - val_accuracy: 0.9996\n",
      "\n",
      "Epoch 00069: val_loss improved from 0.02613 to 0.02596, saving model to best_model.hdf5\n",
      "Epoch 70/70\n",
      "300/300 [==============================] - 24s 79ms/step - loss: 0.0557 - accuracy: 0.9929 - val_loss: 0.0269 - val_accuracy: 0.9990\n",
      "\n",
      "Epoch 00070: val_loss did not improve from 0.02596\n"
     ]
    }
   ],
   "source": [
    "# Train the model\n",
    "\n",
    "epochs = 70\n",
    "batch_size = 128\n",
    "\n",
    "history = model.fit_generator(\n",
    "    datagen.flow(x_train,y_train_onehot, batch_size = batch_size),\n",
    "    epochs = epochs,\n",
    "    steps_per_epoch = x_train.shape[0]//batch_size,\n",
    "    validation_data = (x_test, y_test_onehot),\n",
    "    callbacks = [learning_rate_reduction, checkpoint],\n",
    "    verbose = 1)"
   ]
  },
  {
   "cell_type": "code",
   "execution_count": 0,
   "metadata": {
    "cell_id": "ce413d44-5545-4027-b2b3-5ac0a25c062c",
    "colab": {},
    "colab_type": "code",
    "id": "XYL-QOSYNRLh",
    "tags": []
   },
   "outputs": [],
   "source": [
    "# Extract metrics\n",
    "loss = history.history['loss']\n",
    "val_loss = history.history['val_loss']\n",
    "acc = history.history['accuracy']\n",
    "val_acc = history.history['val_accuracy']"
   ]
  },
  {
   "cell_type": "code",
   "execution_count": 11,
   "metadata": {
    "cell_id": "67c332f7-2eb8-499d-80bd-6df188d48203",
    "colab": {
     "base_uri": "https://localhost:8080/",
     "height": 295
    },
    "colab_type": "code",
    "id": "7OSDat_UNRLn",
    "outputId": "179782de-7943-4ab0-a4ab-f2292c517fc5",
    "tags": []
   },
   "outputs": [
    {
     "data": {
      "image/png": "[encoded data removed]",
      "text/plain": [
       "<Figure size 432x288 with 1 Axes>"
      ]
     },
     "metadata": {
      "needs_background": "light",
      "tags": []
     },
     "output_type": "display_data"
    }
   ],
   "source": [
    "# Visualize loss\n",
    "\n",
    "a = 5\n",
    "steps = range(1, len(loss[a:]) + 1)\n",
    "\n",
    "plt.plot(steps, loss[a:], 'bo', label = 'Training Loss')\n",
    "plt.plot(steps, val_loss[a:], 'b', label = 'Validation Loss')\n",
    "plt.xlabel('Epochs')\n",
    "plt.ylabel('Loss')\n",
    "plt.title('Training and Validation Loss')\n",
    "plt.legend()\n",
    "plt.show()"
   ]
  },
  {
   "cell_type": "code",
   "execution_count": 12,
   "metadata": {
    "cell_id": "6c619e6c-865d-42d5-ad86-9a834a315e78",
    "colab": {
     "base_uri": "https://localhost:8080/",
     "height": 295
    },
    "colab_type": "code",
    "id": "qoSNf9W9NRLz",
    "outputId": "3f41a89d-f6a2-4246-f353-270f36cda743",
    "tags": []
   },
   "outputs": [
    {
     "data": {
      "image/png": "[encoded data removed]",
      "text/plain": [
       "<Figure size 432x288 with 1 Axes>"
      ]
     },
     "metadata": {
      "needs_background": "light",
      "tags": []
     },
     "output_type": "display_data"
    }
   ],
   "source": [
    "# Visualize accuracy\n",
    "\n",
    "plt.plot(steps, acc[a:], 'yo', label = 'Training Accuracy')\n",
    "plt.plot(steps, val_acc[a:], 'y', label = 'Validation Accuracy')\n",
    "plt.xlabel('Epochs')\n",
    "plt.ylabel('Accuracy')\n",
    "plt.title('Training and Validation Accuracy')\n",
    "plt.legend()\n",
    "plt.show()"
   ]
  },
  {
   "cell_type": "code",
   "execution_count": 13,
   "metadata": {
    "cell_id": "01302186-5dbe-46e2-a1bb-46460a697970",
    "colab": {
     "base_uri": "https://localhost:8080/",
     "height": 34
    },
    "colab_type": "code",
    "id": "aNFCbsH6l8V5",
    "outputId": "7d4fe696-7688-42d0-b8ff-b75d06788ef2"
   },
   "outputs": [
    {
     "data": {
      "text/plain": [
       "(20000, 64, 384)"
      ]
     },
     "execution_count": 13,
     "metadata": {
      "tags": []
     },
     "output_type": "execute_result"
    }
   ],
   "source": [
    "# Load the test data\n",
    "Test_data = np.load('Competition_Problems.npy')\n",
    "# normalize test data\n",
    "Test_data /= 255.0\n",
    "Test_data.shape"
   ]
  },
  {
   "cell_type": "code",
   "execution_count": 0,
   "metadata": {
    "cell_id": "00ed5385-0147-4dc3-8b33-42cc6108e5cc",
    "colab": {},
    "colab_type": "code",
    "id": "S07srAi7z0al"
   },
   "outputs": [],
   "source": [
    "# Load the best model found\n",
    "model = load_model('best_model.hdf5')"
   ]
  },
  {
   "cell_type": "code",
   "execution_count": 15,
   "metadata": {
    "cell_id": "26c8e35a-1018-47b9-afb4-b2ca67b14229",
    "colab": {
     "base_uri": "https://localhost:8080/",
     "height": 34
    },
    "colab_type": "code",
    "id": "S94dJtE_NRMb",
    "outputId": "f1281df9-2e6d-4195-882c-5282d5148abc",
    "tags": []
   },
   "outputs": [
    {
     "name": "stdout",
     "output_type": "stream",
     "text": [
      "1 2 3 4 5 6 7 8 9 10 11 12 13 14 15 16 17 18 19 20 "
     ]
    }
   ],
   "source": [
    "# Make predictions for test data\n",
    "\n",
    "grades = []\n",
    "Testsize = 20000\n",
    "\n",
    "for i in range(Testsize):\n",
    "\n",
    "    # print every 1000 steps (just for feedback)\n",
    "    if (i + 1) % 1000 == 0: # i + 1 to avoid printing 0\n",
    "        print((i + 1)//1000, end = ' ')\n",
    "\n",
    "    # extract lhs, rhs and c from the image\n",
    "    lhs_img = Test_data[i][:,60:130]\n",
    "    lhs_img = cv2.resize(lhs_img, (64, 64))    \n",
    "    lhs_img_ = np.reshape(lhs_img, [1, lhs_img.shape[0], lhs_img.shape[1], 1])\n",
    "\n",
    "    rhs_img = Test_data[i][:,250:322]\n",
    "    rhs_img = cv2.resize(rhs_img, (64, 64))\n",
    "    rhs_img_ = np.reshape(rhs_img, [1, rhs_img.shape[0], rhs_img.shape[1], 1])\n",
    "\n",
    "    c_img = Test_data[i][:,315:384]\n",
    "    c_img = cv2.resize(c_img, (64, 64))    \n",
    "    c_img_ = np.reshape(c_img, [1, c_img.shape[0], c_img.shape[1], 1])\n",
    "\n",
    "\n",
    "    # predict lhs, rhs and c labels\n",
    "    lhs_pred = model.predict(lhs_img_, verbose = 0)\n",
    "    lhs_pred = np.argmax(lhs_pred,axis = 1)    \n",
    "\n",
    "    rhs_pred = model.predict(rhs_img_, verbose = 0)\n",
    "    rhs_pred = np.argmax(rhs_pred, axis = 1)   \n",
    "\n",
    "    c_pred = model.predict(c_img_, verbose=0)\n",
    "    c_pred = np.argmax(c_pred,axis = 1)    \n",
    "\n",
    "\n",
    "    # assign the grades\n",
    "\n",
    "    ## equ 1\n",
    "    if lhs_pred == 0:\n",
    "        if rhs_pred == 7:\n",
    "            if c_pred == 11:\n",
    "                grades.append(10)\n",
    "            else:\n",
    "                grades.append(9) \n",
    "                \n",
    "        elif rhs_pred == 12:\n",
    "            if c_pred == 11:\n",
    "                grades.append(5)\n",
    "            else:\n",
    "                grades.append(0)\n",
    "                \n",
    "        else:\n",
    "            grades.append(0)\n",
    "            \n",
    "    ### equ 2   \n",
    "    elif lhs_pred == 1:\n",
    "        if rhs_pred == 8:\n",
    "            if c_pred == 11:\n",
    "                grades.append(10)\n",
    "            else:\n",
    "                grades.append(9) \n",
    "                \n",
    "        elif rhs_pred == 13:\n",
    "            if c_pred == 11:\n",
    "                grades.append(5)\n",
    "            else:\n",
    "                grades.append(0)\n",
    "\n",
    "        elif rhs_pred == 4:\n",
    "            if c_pred == 11:\n",
    "                grades.append(2)\n",
    "            else:\n",
    "                grades.append(1)\n",
    "        else:\n",
    "            grades.append(0) \n",
    "    \n",
    "    ### equ 3 \n",
    "    elif lhs_pred == 2:\n",
    "        if rhs_pred == 9:\n",
    "            if c_pred == 11:\n",
    "                grades.append(10)\n",
    "            else:\n",
    "                grades.append(9) \n",
    "                \n",
    "        elif rhs_pred == 14:\n",
    "            if c_pred == 11:\n",
    "                grades.append(5)\n",
    "            else:\n",
    "                grades.append(0)\n",
    "\n",
    "        elif rhs_pred == 5:\n",
    "            if c_pred == 11:\n",
    "                grades.append(2)\n",
    "            else:\n",
    "                grades.append(1)\n",
    "        else:\n",
    "            grades.append(0) \n",
    "\n",
    "    ### equ 4 \n",
    "    elif lhs_pred == 3:\n",
    "        if rhs_pred == 10:\n",
    "            if c_pred == 11:\n",
    "                grades.append(10)\n",
    "            else:\n",
    "                grades.append(9) \n",
    "                \n",
    "        elif rhs_pred == 15:\n",
    "            if c_pred == 11:\n",
    "                grades.append(5)\n",
    "            else:\n",
    "                grades.append(0)\n",
    "\n",
    "        elif rhs_pred == 6:\n",
    "            if c_pred == 11:\n",
    "                grades.append(2)\n",
    "            else:\n",
    "                grades.append(1)\n",
    "        else:\n",
    "            grades.append(0) \n",
    "\n",
    "    ### equ 5 \n",
    "    elif lhs_pred == 4:\n",
    "        if rhs_pred == 1:\n",
    "            if c_pred == 11:\n",
    "                grades.append(10)\n",
    "            else:\n",
    "                grades.append(9) \n",
    "        else:\n",
    "            grades.append(0) \n",
    "            \n",
    "    ### equ 6 \n",
    "    elif lhs_pred == 5:\n",
    "        if rhs_pred == 2:\n",
    "            if c_pred == 11:\n",
    "                grades.append(10)\n",
    "            else:\n",
    "                grades.append(9) \n",
    "        else:\n",
    "            grades.append(0) \n",
    "            \n",
    "    ### equ 7 \n",
    "    elif lhs_pred == 6:\n",
    "        if rhs_pred == 3:\n",
    "            if c_pred == 11:\n",
    "                grades.append(10)\n",
    "            else:\n",
    "                grades.append(9) \n",
    "        else:\n",
    "            grades.append(0) \n",
    "    \n",
    "    else:\n",
    "        grades.append(0)"
   ]
  },
  {
   "cell_type": "code",
   "execution_count": 0,
   "metadata": {
    "cell_id": "90d9dabf-f05e-4bfc-b8f4-007d663b0584",
    "colab": {},
    "colab_type": "code",
    "id": "OSxedJAVFPx0"
   },
   "outputs": [],
   "source": [
    "# Convert to numpy array and save\n",
    "grades_array = np.array(grades)\n",
    "np.save('grades-g', grades_array)"
   ]
  }
 ],
 "metadata": {
  "accelerator": "GPU",
  "colab": {
   "name": "UI DSComp_2020.ipynb",
   "provenance": [],
   "toc_visible": true
  },
  "deepnote_execution_queue": [
   {
    "cellId": "f4322e83-0976-4fa5-8779-035afdc66027",
    "msgId": "870ca7b2-d1b7-44ab-8180-f4881953b7f8",
    "sessionId": "c497d15d-7622-45d9-8b4f-49c153c04b0c"
   }
  ],
  "deepnote_notebook_id": "18037c33-19fb-4c52-97e8-ab1d85e8543d",
  "kernelspec": {
   "display_name": "Python 3",
   "language": "python",
   "name": "python3"
  },
  "language_info": {
   "codemirror_mode": {
    "name": "ipython",
    "version": 3
   },
   "file_extension": ".py",
   "mimetype": "text/x-python",
   "name": "python",
   "nbconvert_exporter": "python",
   "pygments_lexer": "ipython3",
   "version": "3.6.9"
  }
 },
 "nbformat": 4,
 "nbformat_minor": 1
}
